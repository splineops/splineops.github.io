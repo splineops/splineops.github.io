{
  "cells": [
    {
      "cell_type": "markdown",
      "metadata": {},
      "source": [
        "\n# Plotting spline bases\n\nThis example demonstrates how to plot the spline bases of the library.\n"
      ]
    },
    {
      "cell_type": "markdown",
      "metadata": {},
      "source": [
        "## Imports\n\nImport the necessary libraries and utility functions to define spline bases.\n\n"
      ]
    },
    {
      "cell_type": "code",
      "execution_count": null,
      "metadata": {
        "collapsed": false
      },
      "outputs": [],
      "source": [
        "import numpy as np\nimport matplotlib.pyplot as plt\nfrom splineops.bases.utils import basis_map, create_basis"
      ]
    },
    {
      "cell_type": "markdown",
      "metadata": {},
      "source": [
        "## Function to plot bases\n\nDefine a helper function to plot spline bases.\n\n"
      ]
    },
    {
      "cell_type": "code",
      "execution_count": null,
      "metadata": {
        "collapsed": false
      },
      "outputs": [],
      "source": [
        "def plot_bases(names, x_values, title):\n    plt.figure(figsize=(12, 6))\n    for name in names:\n        # Convert the base name to a more readable format\n        if name == \"keys\":\n            # Special case for Keys spline: no degree in the label\n            readable_name = \"Keys Spline\"\n        else:\n            name_parts = name.split(\"-\")\n            readable_name = f\"{name_parts[0][:-1]} degree {name_parts[0][-1]}\"\n\n        # Evaluate the basis function\n        y_values = create_basis(name).eval(x_values)\n        plt.plot(x_values, y_values, label=readable_name)\n\n    plt.title(title)\n    plt.xlabel(\"x\")\n    plt.ylabel(\"y\")\n    plt.grid(True)\n    plt.legend()\n    plt.show()"
      ]
    },
    {
      "cell_type": "markdown",
      "metadata": {},
      "source": [
        "## Spline bases evaluation and plotting\n\nDefine the x range and plot the spline bases in figures.\n\n"
      ]
    },
    {
      "cell_type": "code",
      "execution_count": null,
      "metadata": {
        "collapsed": false
      },
      "outputs": [],
      "source": [
        "x_values = np.linspace(-3, 3, 1000)"
      ]
    },
    {
      "cell_type": "markdown",
      "metadata": {},
      "source": [
        "## Combined plot for B-spline degrees 0 to 9\n\n"
      ]
    },
    {
      "cell_type": "code",
      "execution_count": null,
      "metadata": {
        "collapsed": false
      },
      "outputs": [],
      "source": [
        "plot_bases(\n    names=[\n        \"bspline0\",\n        \"bspline1\",\n        \"bspline2\",\n        \"bspline3\",\n        \"bspline4\",\n        \"bspline5\",\n        \"bspline6\",\n        \"bspline7\",\n        \"bspline8\",\n        \"bspline9\",\n    ],\n    x_values=x_values,\n    title=\"B-Spline Basis Functions: B-Spline degree 0 to B-Spline degree 9\",\n)"
      ]
    },
    {
      "cell_type": "markdown",
      "metadata": {},
      "source": [
        "## Combined plot for O-MOMS degrees 0 to 5\n\n"
      ]
    },
    {
      "cell_type": "code",
      "execution_count": null,
      "metadata": {
        "collapsed": false
      },
      "outputs": [],
      "source": [
        "plot_bases(\n    names=[\"omoms0\", \"omoms1\", \"omoms2\", \"omoms3\", \"omoms4\", \"omoms5\"],\n    x_values=x_values,\n    title=\"OMOMS Basis Functions: OMOMS degree 0 to OMOMS degree 5\",\n)"
      ]
    },
    {
      "cell_type": "markdown",
      "metadata": {},
      "source": [
        "## Plot for Keys basis function\n\n"
      ]
    },
    {
      "cell_type": "code",
      "execution_count": null,
      "metadata": {
        "collapsed": false
      },
      "outputs": [],
      "source": [
        "plot_bases(\n    names=[\"keys\"],\n    x_values=x_values,\n    title=\"Keys Basis Function\",\n)"
      ]
    }
  ],
  "metadata": {
    "kernelspec": {
      "display_name": "Python 3",
      "language": "python",
      "name": "python3"
    },
    "language_info": {
      "codemirror_mode": {
        "name": "ipython",
        "version": 3
      },
      "file_extension": ".py",
      "mimetype": "text/x-python",
      "name": "python",
      "nbconvert_exporter": "python",
      "pygments_lexer": "ipython3",
      "version": "3.12.5"
    }
  },
  "nbformat": 4,
  "nbformat_minor": 0
}