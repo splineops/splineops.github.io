{
  "cells": [
    {
      "cell_type": "markdown",
      "metadata": {},
      "source": [
        "\n# First steps with the TensorSpline API\n\nThis example demonstrates how to create a basic interpolation using the TensorSpline API.\n"
      ]
    },
    {
      "cell_type": "markdown",
      "metadata": {},
      "source": [
        "## Data preparation\n\nData type (need to provide floating numbers, \"float64\" and \"float32\" are typical).\nCreate random data samples and corresponding coordinates.\n\n"
      ]
    },
    {
      "cell_type": "code",
      "execution_count": null,
      "metadata": {
        "collapsed": false
      },
      "outputs": [],
      "source": [
        "import numpy as np\nimport matplotlib.pyplot as plt\nfrom splineops.interpolate.tensorspline import TensorSpline\n\ndtype = \"float32\"\n\nnx, ny = 2, 5\nxmin, xmax = -3.1, +1\nymin, ymax = 2, 6.5\nxx = np.linspace(xmin, xmax, nx, dtype=dtype)\nyy = np.linspace(ymin, ymax, ny, dtype=dtype)\ncoordinates = xx, yy\nprng = np.random.default_rng(seed=5250)\ndata = prng.standard_normal(size=tuple(c.size for c in coordinates))\ndata = np.ascontiguousarray(data, dtype=dtype)"
      ]
    },
    {
      "cell_type": "markdown",
      "metadata": {},
      "source": [
        "## TensorSpline setup\n\nTensor spline bases and signal extension modes.\n\n"
      ]
    },
    {
      "cell_type": "code",
      "execution_count": null,
      "metadata": {
        "collapsed": false
      },
      "outputs": [],
      "source": [
        "bases = \"bspline3\"  # same basis applied to all dimensions\nmodes = \"mirror\"  # same mode applied to all dimensions\n\ntensor_spline = TensorSpline(\n    data=data, coordinates=coordinates, bases=bases, modes=modes\n)"
      ]
    },
    {
      "cell_type": "markdown",
      "metadata": {},
      "source": [
        "## Evaluation coordinates\n\nCreate evaluation coordinates (extended and oversampled in this case).\n\n"
      ]
    },
    {
      "cell_type": "code",
      "execution_count": null,
      "metadata": {
        "collapsed": false
      },
      "outputs": [],
      "source": [
        "dx = (xx[-1] - xx[0]) / (nx - 1)\ndy = (yy[-1] - yy[0]) / (ny - 1)\npad_fct = 1.1\npx = pad_fct * nx * dx\npy = pad_fct * ny * dy\neval_xx = np.linspace(xx[0] - px, xx[-1] + px, 100 * nx)\neval_yy = np.linspace(yy[0] - py, yy[-1] + py, 100 * ny)"
      ]
    },
    {
      "cell_type": "markdown",
      "metadata": {},
      "source": [
        "Next, there are three equally valid ways to do interpolation evaluation:\n\n## 1) Standard evaluation\n\nPerform a standard evaluation on a grid of coordinates.\n\n"
      ]
    },
    {
      "cell_type": "code",
      "execution_count": null,
      "metadata": {
        "collapsed": false
      },
      "outputs": [],
      "source": [
        "eval_coords = eval_xx, eval_yy\ndata_eval = tensor_spline(coordinates=eval_coords)"
      ]
    },
    {
      "cell_type": "markdown",
      "metadata": {},
      "source": [
        "## 2) Meshgrid evaluation\n\nEvaluate using a meshgrid (not the default choice but could be useful in some cases).\n\n"
      ]
    },
    {
      "cell_type": "code",
      "execution_count": null,
      "metadata": {
        "collapsed": false
      },
      "outputs": [],
      "source": [
        "eval_coords_mg = np.meshgrid(*eval_coords, indexing=\"ij\")\ndata_eval_mg = tensor_spline(coordinates=eval_coords_mg, grid=False)\nnp.testing.assert_equal(data_eval, data_eval_mg)"
      ]
    },
    {
      "cell_type": "markdown",
      "metadata": {},
      "source": [
        "## 3) Points evaluation\n\nEvaluate the tensor spline at a list of points directly.\n\n"
      ]
    },
    {
      "cell_type": "code",
      "execution_count": null,
      "metadata": {
        "collapsed": false
      },
      "outputs": [],
      "source": [
        "eval_coords_pts = np.reshape(eval_coords_mg, (2, -1))\ndata_eval_pts = tensor_spline(coordinates=eval_coords_pts, grid=False)\nnp.testing.assert_equal(data_eval, np.reshape(data_eval_pts, data_eval_mg.shape))"
      ]
    },
    {
      "cell_type": "markdown",
      "metadata": {},
      "source": [
        "## Visualization\n\nVisualize the original data samples and the interpolated data.\n\n"
      ]
    },
    {
      "cell_type": "code",
      "execution_count": null,
      "metadata": {
        "collapsed": false
      },
      "outputs": [],
      "source": [
        "fig: plt.Figure\nax: plt.Axes\n\nextent = [xx[0] - dx / 2, xx[-1] + dx / 2, yy[0] - dy / 2, yy[-1] + dy / 2]\neval_extent = [\n    eval_xx[0] - dx / 2,\n    eval_xx[-1] + dx / 2,\n    eval_yy[0] - dy / 2,\n    eval_yy[-1] + dy / 2,\n]\n\nfig, axes = plt.subplots(nrows=1, ncols=2, figsize=(12, 6), sharex=\"all\", sharey=\"all\")\nax = axes[0]\nax.imshow(data.T, extent=extent)\nax.set_title(\"Original data samples\")\nax = axes[1]\nax.imshow(data_eval.T, extent=eval_extent)\nax.set_title(\"Interpolated data\")\n\nplt.tight_layout()\nplt.show()"
      ]
    }
  ],
  "metadata": {
    "kernelspec": {
      "display_name": "Python 3",
      "language": "python",
      "name": "python3"
    },
    "language_info": {
      "codemirror_mode": {
        "name": "ipython",
        "version": 3
      },
      "file_extension": ".py",
      "mimetype": "text/x-python",
      "name": "python",
      "nbconvert_exporter": "python",
      "pygments_lexer": "ipython3",
      "version": "3.12.4"
    }
  },
  "nbformat": 4,
  "nbformat_minor": 0
}