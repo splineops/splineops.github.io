{
  "cells": [
    {
      "cell_type": "markdown",
      "metadata": {},
      "source": [
        "\n# Displaying signal extension modes\n\nThis example shows current extension modes finite support coefficients and narrow mirroring.\n"
      ]
    },
    {
      "cell_type": "markdown",
      "metadata": {},
      "source": [
        "## Imports\n\nImport the necessary libraries and utility functions.\n\n"
      ]
    },
    {
      "cell_type": "code",
      "execution_count": null,
      "metadata": {
        "collapsed": false
      },
      "outputs": [],
      "source": [
        "import numpy as np\nimport matplotlib.pyplot as plt\nfrom splineops.interpolate.tensorspline import TensorSpline"
      ]
    },
    {
      "cell_type": "markdown",
      "metadata": {},
      "source": [
        "## Function to create non-continuous signal\n\nCreate a signal that is mostly linear but introduces a \"bump\" at an arbitrary location.\n\n"
      ]
    },
    {
      "cell_type": "code",
      "execution_count": null,
      "metadata": {
        "collapsed": false
      },
      "outputs": [],
      "source": [
        "def create_signal_with_bump(x_values, bump_location=3, bump_width=0.5, bump_height=5):\n    linear_part = x_values  # Linear function: f(x) = x\n    bump = np.where(\n        (x_values > (bump_location - bump_width / 2))\n        & (x_values < (bump_location + bump_width / 2)),\n        bump_height,\n        0,\n    )\n    return linear_part + bump"
      ]
    },
    {
      "cell_type": "markdown",
      "metadata": {},
      "source": [
        "## Function to plot extension modes for signal\n\nDefine a helper function to plot extension modes using the non-continuous function.\n\n"
      ]
    },
    {
      "cell_type": "code",
      "execution_count": null,
      "metadata": {
        "collapsed": false
      },
      "outputs": [],
      "source": [
        "def plot_extension_modes_for_bump_function(mode_name, x_values, title):\n    plt.figure(figsize=(12, 6))\n\n    # Create the signal with a bump\n    data = create_signal_with_bump(x_values)\n\n    # Create TensorSpline instance\n    tensor_spline = TensorSpline(\n        data=data, coordinates=(x_values,), bases=\"linear\", modes=mode_name\n    )\n\n    # Define the extended evaluation grid (from -10 to 10)\n    eval_x_values = np.linspace(-10, 10, 2000)\n    eval_coords = (eval_x_values,)\n\n    # Evaluate the tensor spline\n    extended_data = tensor_spline.eval(coordinates=eval_coords)\n\n    # Plot the results\n    plt.plot(eval_x_values, extended_data, label=\"Extended Signal\")\n\n    # Add vertical lines at the boundaries of the original signal\n    plt.axvline(\n        x=x_values[0], color=\"red\", linestyle=\"--\", label=\"Original Signal Start\"\n    )\n    plt.axvline(\n        x=x_values[-1], color=\"blue\", linestyle=\"--\", label=\"Original Signal End\"\n    )\n\n    plt.title(title)\n    plt.xlabel(\"x\")\n    plt.ylabel(\"Interpolated Value\")\n    plt.grid(True)\n    plt.legend()\n    plt.show()"
      ]
    },
    {
      "cell_type": "markdown",
      "metadata": {},
      "source": [
        "## Define x range\n\n"
      ]
    },
    {
      "cell_type": "code",
      "execution_count": null,
      "metadata": {
        "collapsed": false
      },
      "outputs": [],
      "source": [
        "x_values = np.linspace(0, 6, 101)  # Use 101 points to ensure 0 (middle) is included"
      ]
    },
    {
      "cell_type": "markdown",
      "metadata": {},
      "source": [
        "## Plot for finite support coefficients\n\n"
      ]
    },
    {
      "cell_type": "code",
      "execution_count": null,
      "metadata": {
        "collapsed": false
      },
      "outputs": [],
      "source": [
        "plot_extension_modes_for_bump_function(\n    mode_name=\"zero\",  # Finite Support Coefficients is represented by \"zero\"\n    x_values=x_values,\n    title=\"Extension Mode: Finite Support Coefficients\",\n)"
      ]
    },
    {
      "cell_type": "markdown",
      "metadata": {},
      "source": [
        "## Plot for narrow mirroring\n\n"
      ]
    },
    {
      "cell_type": "code",
      "execution_count": null,
      "metadata": {
        "collapsed": false
      },
      "outputs": [],
      "source": [
        "plot_extension_modes_for_bump_function(\n    mode_name=\"mirror\",  # Narrow Mirroring is represented by \"mirror\"\n    x_values=x_values,\n    title=\"Extension Mode: Narrow Mirroring\",\n)"
      ]
    }
  ],
  "metadata": {
    "kernelspec": {
      "display_name": "Python 3",
      "language": "python",
      "name": "python3"
    },
    "language_info": {
      "codemirror_mode": {
        "name": "ipython",
        "version": 3
      },
      "file_extension": ".py",
      "mimetype": "text/x-python",
      "name": "python",
      "nbconvert_exporter": "python",
      "pygments_lexer": "ipython3",
      "version": "3.12.4"
    }
  },
  "nbformat": 4,
  "nbformat_minor": 0
}