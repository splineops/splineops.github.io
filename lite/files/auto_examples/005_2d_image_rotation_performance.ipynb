{
  "cells": [
    {
      "cell_type": "markdown",
      "metadata": {},
      "source": [
        "\n# 2D image rotation performance\n\nThis example demonstrates how to create a basic rotation using the TensorSpline API and comparing against Scipy's.\n"
      ]
    },
    {
      "cell_type": "markdown",
      "metadata": {},
      "source": [
        "## Imports\n\nImport necessary libraries.\n\n"
      ]
    },
    {
      "cell_type": "code",
      "execution_count": null,
      "metadata": {
        "collapsed": false
      },
      "outputs": [],
      "source": [
        "import numpy as np\nimport matplotlib.pyplot as plt\nimport time\nfrom scipy import ndimage, datasets\n\nfrom splineops.interpolate.tensorspline import TensorSpline"
      ]
    },
    {
      "cell_type": "markdown",
      "metadata": {},
      "source": [
        "## Calculate inscribed rectangle bounds from image\n\nCalculate the bounds for the largest rectangle that can be inscribed within a circle, which itself is inscribed within the original image, based on the image array directly.\n\n"
      ]
    },
    {
      "cell_type": "code",
      "execution_count": null,
      "metadata": {
        "collapsed": false
      },
      "outputs": [],
      "source": [
        "def calculate_inscribed_rectangle_bounds_from_image(image):\n    \"\"\"\n    Calculate the bounds for the largest rectangle that can be inscribed\n    within a circle, which itself is inscribed within the original image,\n    based on the image array directly.\n\n    The rectangle and the circle are centered within the original image.\n\n    Parameters:\n    - image: The input image as a 2D or 3D numpy array.\n\n    Returns:\n    - A tuple (x_min, y_min, x_max, y_max) representing the bounds for cropping.\n    \"\"\"\n    # Extract image dimensions\n    height, width = image.shape[:2]\n\n    # Calculate the radius of the inscribed circle\n    radius = min(width, height) / 2\n\n    # The side length of the square (largest inscribed rectangle in a circle)\n    side_length = radius * np.sqrt(2)\n\n    # Calculate the center of the image\n    cx, cy = width / 2, height / 2\n\n    # Calculate the bounds of the largest inscribed rectangle\n    x_min = int(cx - side_length / 2)\n    y_min = int(cy - side_length / 2)\n    x_max = int(cx + side_length / 2)\n    y_max = int(cy + side_length / 2)\n\n    return np.array([x_min, y_min, x_max, y_max])"
      ]
    },
    {
      "cell_type": "markdown",
      "metadata": {},
      "source": [
        "## Crop image to bounds\n\nCrop an image to the specified bounds.\n\n"
      ]
    },
    {
      "cell_type": "code",
      "execution_count": null,
      "metadata": {
        "collapsed": false
      },
      "outputs": [],
      "source": [
        "def crop_image_to_bounds(image, bounds):\n    \"\"\"\n    Crop an image to the specified bounds.\n\n    Parameters:\n    - image: The input image as a 2D numpy array.\n    - bounds: An array of (x_min, y_min, x_max, y_max) defining the crop bounds,\n              where these values are absolute pixel coordinates in the image.\n\n    Returns:\n    - Cropped image as a 2D numpy array.\n    \"\"\"\n    x_min, y_min, x_max, y_max = bounds\n    return image[y_min:y_max, x_min:x_max]"
      ]
    },
    {
      "cell_type": "markdown",
      "metadata": {},
      "source": [
        "## Calculate signal-to-noise ratio (SNR)\n\nCompute the SNR between the original and modified images.\n\n"
      ]
    },
    {
      "cell_type": "code",
      "execution_count": null,
      "metadata": {
        "collapsed": false
      },
      "outputs": [],
      "source": [
        "def calculate_snr(original, modified):\n    \"\"\"\n    Compute the Signal-to-Noise Ratio (SNR) between the original and modified images.\n\n    Parameters:\n    - original: The original image as a 2D numpy array.\n    - modified: The modified (rotated) image as a 2D numpy array.\n\n    Returns:\n    - SNR value as a float.\n    \"\"\"\n    original_normalized = original / 255.0 if original.max() > 1 else original\n    processed_normalized = modified / 255.0 if modified.max() > 1 else modified\n    noise = original_normalized - processed_normalized\n    mean_signal = np.mean(original_normalized)\n    variance_noise = np.var(noise)\n    epsilon = 1e-3\n    snr = 10 * np.log10((mean_signal**2) / (variance_noise + epsilon))\n    return snr"
      ]
    },
    {
      "cell_type": "markdown",
      "metadata": {},
      "source": [
        "## Calculate mean squared error (MSE)\n\nCompute the MSE between the original and modified images.\n\n"
      ]
    },
    {
      "cell_type": "code",
      "execution_count": null,
      "metadata": {
        "collapsed": false
      },
      "outputs": [],
      "source": [
        "def calculate_mse(original, modified):\n    \"\"\"\n    Compute the mean squared error (MSE) between the original and modified images.\n\n    Parameters:\n    - original: The original image as a 2D numpy array.\n    - modified: The modified (rotated) image as a 2D numpy array.\n\n    Returns:\n    - MSE value as a float.\n    \"\"\"\n    mse = np.mean((original - modified) ** 2)\n    return mse"
      ]
    },
    {
      "cell_type": "markdown",
      "metadata": {},
      "source": [
        "## Rotate image and crop using SplineOps\n\nRotate an image by a specified angle using the splineops library's TensorSpline method and crop the result.\n\n"
      ]
    },
    {
      "cell_type": "code",
      "execution_count": null,
      "metadata": {
        "collapsed": false
      },
      "outputs": [],
      "source": [
        "def rotate_image_and_crop_splineops(image, angle, degree=3, mode=\"zero\", iterations=1):\n    \"\"\"\n    Rotate an image by a specified angle using the splineops library's TensorSpline method and crop the result.\n\n    Parameters:\n    - image: The input image as a 2D numpy array.\n    - angle: The rotation angle in degrees.\n    - degree: The degree of the spline (0-7).\n    - mode: The mode for handling boundaries (default is \"zero\").\n    - iterations: The number of iterations to apply the rotation.\n\n    Returns:\n    - Rotated image as a 2D numpy array.\n    \"\"\"\n    dtype = image.dtype\n    ny, nx = image.shape\n    xx = np.linspace(0, nx - 1, nx, dtype=dtype)\n    yy = np.linspace(0, ny - 1, ny, dtype=dtype)\n    data = np.ascontiguousarray(image, dtype=dtype)\n    rotated_image = data\n\n    degree = max(0, min(degree, 7))\n    basis = f\"bspline{degree}\"\n\n    for _ in range(iterations):\n        tensor_spline = TensorSpline(\n            data=rotated_image, coordinates=(yy, xx), bases=basis, modes=mode\n        )\n        angle_rad = np.radians(-angle)\n        cos_angle, sin_angle = np.cos(angle_rad), np.sin(angle_rad)\n        original_center_x, original_center_y = (nx - 1) / 2.0, (ny - 1) / 2.0\n        oy, ox = np.ogrid[0:ny, 0:nx]\n        ox = ox - original_center_x\n        oy = oy - original_center_y\n\n        nx_coords = cos_angle * ox + sin_angle * oy + original_center_x\n        ny_coords = -sin_angle * ox + cos_angle * oy + original_center_y\n\n        eval_coords = ny_coords.flatten(), nx_coords.flatten()\n        interpolated_values = tensor_spline(coordinates=eval_coords, grid=False)\n        rotated_image = interpolated_values.reshape(ny, nx)\n\n    return rotated_image"
      ]
    },
    {
      "cell_type": "markdown",
      "metadata": {},
      "source": [
        "## Rotate image and crop using SciPy\n\nRotate an image by a specified angle using SciPy's ndimage.rotate function and crop the result.\n\n"
      ]
    },
    {
      "cell_type": "code",
      "execution_count": null,
      "metadata": {
        "collapsed": false
      },
      "outputs": [],
      "source": [
        "def rotate_image_and_crop_scipy(image, angle, order=3, iterations=5):\n    \"\"\"\n    Rotate an image by a specified angle using SciPy's ndimage.rotate function and crop the result.\n\n    Parameters:\n    - image: The input image as a 2D numpy array.\n    - angle: The rotation angle in degrees.\n    - order: The order of the spline (0-5).\n    - iterations: The number of iterations to apply the rotation.\n\n    Returns:\n    - Rotated image as a 2D numpy array.\n    \"\"\"\n    rotated_image = image.copy()\n    for _ in range(iterations):\n        rotated_image = ndimage.rotate(\n            rotated_image, angle, reshape=False, order=order, mode=\"constant\", cval=0\n        )\n    return rotated_image"
      ]
    },
    {
      "cell_type": "markdown",
      "metadata": {},
      "source": [
        "## Benchmark and display rotation\n\nPerform a benchmark of the rotation operation for both SplineOps and SciPy libraries and display images.\n\n"
      ]
    },
    {
      "cell_type": "code",
      "execution_count": null,
      "metadata": {
        "collapsed": false
      },
      "outputs": [],
      "source": [
        "def benchmark_and_display_rotation(image, angle, degree, iterations):\n    \"\"\"\n    Perform a benchmark of the rotation operation for both splineops and SciPy libraries and display images.\n\n    Parameters:\n    - image: The input image as a 2D numpy array.\n    - angle: The rotation angle in degrees.\n    - degree: The degree of the spline (0-7).\n    - iterations: The number of iterations to apply the rotation.\n    \"\"\"\n    start_time_custom = time.time()\n    custom_rotated_and_cropped_splineops = rotate_image_and_crop_splineops(\n        image, angle, degree=degree, mode=\"zero\", iterations=iterations\n    )\n    time_custom = time.time() - start_time_custom\n\n    start_time_scipy = time.time()\n    scipy_rotated_and_cropped = rotate_image_and_crop_scipy(\n        image, angle, order=degree, iterations=iterations\n    )\n    time_scipy = time.time() - start_time_scipy\n\n    bounds = calculate_inscribed_rectangle_bounds_from_image(image)\n    image_cropped = crop_image_to_bounds(image, bounds)\n    custom_rotated_and_cropped_splineops = crop_image_to_bounds(\n        custom_rotated_and_cropped_splineops, bounds\n    )\n    scipy_rotated_and_cropped = crop_image_to_bounds(scipy_rotated_and_cropped, bounds)\n\n    snr_splineops = calculate_snr(image_cropped, custom_rotated_and_cropped_splineops)\n    snr_scipy = calculate_snr(image_cropped, scipy_rotated_and_cropped)\n    mse_splineops = calculate_mse(image_cropped, custom_rotated_and_cropped_splineops)\n    mse_scipy = calculate_mse(image_cropped, scipy_rotated_and_cropped)\n\n    fig, axes = plt.subplots(nrows=3, ncols=1, figsize=(10, 20))\n    axes[0].imshow(image_cropped, cmap=\"gray\")\n    axes[0].set_title(\"Original Image\")\n    axes[1].imshow(custom_rotated_and_cropped_splineops, cmap=\"gray\")\n    axes[1].set_title(\n        f\"SplineOps Rotated\\nSNR: {snr_splineops:.2f}dB, MSE: {mse_splineops:.2e}\\nAngle: {angle}\u00b0, Iter: {iterations}\\nDegree: {degree}, Time: {time_custom:.2f}s\"\n    )\n    axes[2].imshow(scipy_rotated_and_cropped, cmap=\"gray\")\n    axes[2].set_title(\n        f\"SciPy Rotated\\nSNR: {snr_scipy:.2f}dB, MSE: {mse_scipy:.2e}\\nAngle: {angle}\u00b0, Iter: {iterations}\\nDegree: {degree}, Time: {time_scipy:.2f}s\"\n    )\n\n    plt.tight_layout()\n    plt.subplots_adjust(hspace=0.4, top=0.95, bottom=0.05)\n    plt.show()"
      ]
    },
    {
      "cell_type": "markdown",
      "metadata": {},
      "source": [
        "## Load image and perform rotations\n\nLoad the image, perform rotations using both SplineOps and SciPy methods, and display the results.\n\n"
      ]
    },
    {
      "cell_type": "code",
      "execution_count": null,
      "metadata": {
        "collapsed": false
      },
      "outputs": [],
      "source": [
        "# Image size, Rotation angle and iterations and degree of spline interpolation\nsize = 1000\nangle = 72  # 72\niterations = 5  # 5\ndegree = 3\n\n# Load and resize the ascent image\nimage = datasets.ascent()\nimage_resized = ndimage.zoom(\n    image, (size / image.shape[0], size / image.shape[1]), order=degree\n)\n\n# Convert to float32\nimage_resized = image_resized.astype(np.float32)\n\n# Benchmark and display rotation results\nbenchmark_and_display_rotation(image_resized, angle, degree, iterations)"
      ]
    }
  ],
  "metadata": {
    "kernelspec": {
      "display_name": "Python 3",
      "language": "python",
      "name": "python3"
    },
    "language_info": {
      "codemirror_mode": {
        "name": "ipython",
        "version": 3
      },
      "file_extension": ".py",
      "mimetype": "text/x-python",
      "name": "python",
      "nbconvert_exporter": "python",
      "pygments_lexer": "ipython3",
      "version": "3.12.5"
    }
  },
  "nbformat": 4,
  "nbformat_minor": 0
}