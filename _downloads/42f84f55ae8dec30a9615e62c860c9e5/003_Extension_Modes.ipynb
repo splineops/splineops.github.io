{
  "cells": [
    {
      "cell_type": "markdown",
      "metadata": {},
      "source": [
        "\n# Displaying Extension Modes\n\nThis example shows current extension modes Finite Support Coefficients and Narrow Mirroring.\n"
      ]
    },
    {
      "cell_type": "markdown",
      "metadata": {},
      "source": [
        "## Imports\n\nImport the necessary libraries and utility functions.\n\n"
      ]
    },
    {
      "cell_type": "code",
      "execution_count": null,
      "metadata": {
        "collapsed": false
      },
      "outputs": [],
      "source": [
        "import numpy as np\nimport matplotlib.pyplot as plt\nfrom splineops.interpolate.tensorspline import TensorSpline"
      ]
    },
    {
      "cell_type": "markdown",
      "metadata": {},
      "source": [
        "## Function to Create Linear Signal\n\nCreate a simple linear signal for the specified x values.\n\n"
      ]
    },
    {
      "cell_type": "code",
      "execution_count": null,
      "metadata": {
        "collapsed": false
      },
      "outputs": [],
      "source": [
        "def create_linear_signal(x_values):\n    return x_values  # Linear function: f(x) = x"
      ]
    },
    {
      "cell_type": "markdown",
      "metadata": {},
      "source": [
        "## Function to Plot Extension Modes for Linear Function\n\nDefine a helper function to plot extension modes using a linear function and adding boundary markers.\n\n"
      ]
    },
    {
      "cell_type": "code",
      "execution_count": null,
      "metadata": {
        "collapsed": false
      },
      "outputs": [],
      "source": [
        "def plot_extension_modes_for_linear_function(mode_name, x_values, title):\n    plt.figure(figsize=(12, 6))\n\n    # Create the linear signal\n    data = create_linear_signal(x_values)\n\n    # Create TensorSpline instance\n    tensor_spline = TensorSpline(\n        data=data, coordinates=(x_values,), bases=\"linear\", modes=mode_name\n    )\n\n    # Define the extended evaluation grid (from -10 to 10)\n    eval_x_values = np.linspace(-10, 10, 2000)\n    eval_coords = (eval_x_values,)\n\n    # Evaluate the tensor spline\n    extended_data = tensor_spline.eval(coordinates=eval_coords)\n\n    # Plot the results\n    plt.plot(eval_x_values, extended_data, label=\"Linear Function f(x) = x\")\n\n    # Add vertical lines at the boundaries of the original signal\n    plt.axvline(\n        x=x_values[0], color=\"red\", linestyle=\"--\", label=\"Original Signal Start\"\n    )\n    plt.axvline(\n        x=x_values[-1], color=\"blue\", linestyle=\"--\", label=\"Original Signal End\"\n    )\n\n    plt.title(title)\n    plt.xlabel(\"x\")\n    plt.ylabel(\"Interpolated Value\")\n    plt.grid(True)\n    plt.legend()\n    plt.show()"
      ]
    },
    {
      "cell_type": "markdown",
      "metadata": {},
      "source": [
        "## Define x Range\n\n"
      ]
    },
    {
      "cell_type": "code",
      "execution_count": null,
      "metadata": {
        "collapsed": false
      },
      "outputs": [],
      "source": [
        "x_values = np.linspace(-3, 3, 101)  # Use 101 points to ensure 0 (middle) is included"
      ]
    },
    {
      "cell_type": "markdown",
      "metadata": {},
      "source": [
        "## Plot for Finite Support Coefficients\n\n"
      ]
    },
    {
      "cell_type": "code",
      "execution_count": null,
      "metadata": {
        "collapsed": false
      },
      "outputs": [],
      "source": [
        "plot_extension_modes_for_linear_function(\n    mode_name=\"zero\",  # Finite Support Coefficients is represented by \"zero\"\n    x_values=x_values,\n    title=\"Extension Mode: Finite Support Coefficients for Linear Function\",\n)"
      ]
    },
    {
      "cell_type": "markdown",
      "metadata": {},
      "source": [
        "## Plot for Narrow Mirroring\n\n"
      ]
    },
    {
      "cell_type": "code",
      "execution_count": null,
      "metadata": {
        "collapsed": false
      },
      "outputs": [],
      "source": [
        "plot_extension_modes_for_linear_function(\n    mode_name=\"mirror\",  # Narrow Mirroring is represented by \"mirror\"\n    x_values=x_values,\n    title=\"Extension Mode: Narrow Mirroring for Linear Function\",\n)"
      ]
    }
  ],
  "metadata": {
    "kernelspec": {
      "display_name": "Python 3",
      "language": "python",
      "name": "python3"
    },
    "language_info": {
      "codemirror_mode": {
        "name": "ipython",
        "version": 3
      },
      "file_extension": ".py",
      "mimetype": "text/x-python",
      "name": "python",
      "nbconvert_exporter": "python",
      "pygments_lexer": "ipython3",
      "version": "3.12.5"
    }
  },
  "nbformat": 4,
  "nbformat_minor": 0
}