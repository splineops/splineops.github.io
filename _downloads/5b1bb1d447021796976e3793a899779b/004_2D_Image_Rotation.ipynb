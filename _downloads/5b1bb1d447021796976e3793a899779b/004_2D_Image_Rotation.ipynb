{
  "cells": [
    {
      "cell_type": "markdown",
      "metadata": {},
      "source": [
        "\n# 2D Image Rotation\n\nThis script demonstrates how to rotate an 2D image being from 0 to 360 degrees using the Tensor Spline Interpolation, with each rotation performed on top of the last rotated image to observe error accumulation.\n"
      ]
    },
    {
      "cell_type": "markdown",
      "metadata": {},
      "source": [
        "## Imports\n\nImport necessary libraries.\n\n"
      ]
    },
    {
      "cell_type": "code",
      "execution_count": null,
      "metadata": {
        "collapsed": false
      },
      "outputs": [],
      "source": [
        "import numpy as np\nimport matplotlib.pyplot as plt\nfrom scipy import ndimage, datasets\nfrom IPython.display import HTML, display\nfrom matplotlib import animation\n\nfrom splineops.interpolate.tensorspline import TensorSpline"
      ]
    },
    {
      "cell_type": "markdown",
      "metadata": {},
      "source": [
        "## Helper Functions\n\nDefine the helper functions to rotate an image and create the animation.\n\n"
      ]
    },
    {
      "cell_type": "code",
      "execution_count": null,
      "metadata": {
        "collapsed": false
      },
      "outputs": [],
      "source": [
        "def rotate_image_splineops(image, angle, degree=3, mode=\"zero\"):\n    \"\"\"\n    Rotate an image by a specified angle using SplineOps' TensorSpline method.\n\n    Parameters:\n    - image: The input image as a 2D numpy array.\n    - angle: The rotation angle in degrees.\n    - degree: The degree of the spline (0-7).\n    - mode: The mode for handling boundaries (default is \"zero\").\n\n    Returns:\n    - Rotated image as a 2D numpy array.\n    \"\"\"\n    dtype = image.dtype\n    ny, nx = image.shape\n    xx = np.linspace(0, nx - 1, nx, dtype=dtype)\n    yy = np.linspace(0, ny - 1, ny, dtype=dtype)\n    data = np.ascontiguousarray(image, dtype=dtype)\n\n    degree = max(0, min(degree, 7))\n    basis = f\"bspline{degree}\"\n\n    tensor_spline = TensorSpline(\n        data=data, coordinates=(yy, xx), bases=basis, modes=mode\n    )\n    angle_rad = np.radians(-angle)\n    cos_angle, sin_angle = np.cos(angle_rad), np.sin(angle_rad)\n    original_center_x, original_center_y = (nx - 1) / 2.0, (ny - 1) / 2.0\n    oy, ox = np.ogrid[0:ny, 0:nx]\n    ox = ox - original_center_x\n    oy = oy - original_center_y\n\n    nx_coords = cos_angle * ox + sin_angle * oy + original_center_x\n    ny_coords = -sin_angle * ox + cos_angle * oy + original_center_y\n\n    eval_coords = ny_coords.flatten(), nx_coords.flatten()\n    interpolated_values = tensor_spline(coordinates=eval_coords, grid=False)\n    rotated_image = interpolated_values.reshape(ny, nx)\n\n    return rotated_image"
      ]
    },
    {
      "cell_type": "markdown",
      "metadata": {},
      "source": [
        "## Load and Preprocess Image\n\nLoad the image and preprocess it for the rotation animation.\n\n"
      ]
    },
    {
      "cell_type": "code",
      "execution_count": null,
      "metadata": {
        "collapsed": false
      },
      "outputs": [],
      "source": [
        "# Load and resize the ascent image\nimage = datasets.ascent()\nsize = 500  # Resize image to 500x500 for faster computation\ndegree = 3\nimage_resized = ndimage.zoom(\n    image, (size / image.shape[0], size / image.shape[1]), order=degree\n)\n\n# Convert to float32\nimage_resized = image_resized.astype(np.float32)\n\n# Rotate the image by 45 degrees using spline of degree 3\nrotated_image_45 = rotate_image_splineops(image_resized, 45, degree=3)\n\n# Display the original and rotated images\nfig, ax = plt.subplots(1, 2, figsize=(10, 5))\nax[0].imshow(image_resized, cmap=\"gray\")\nax[0].set_title(\"Original Image\")\nax[0].axis(\"off\")\nax[1].imshow(rotated_image_45, cmap=\"gray\")\nax[1].set_title(\"Rotated Image (45 degrees, spline degree 3)\")\nax[1].axis(\"off\")\nplt.tight_layout()\nplt.show()"
      ]
    },
    {
      "cell_type": "markdown",
      "metadata": {},
      "source": [
        "## Create Animation\n\nCreate the animation of the image being rotated from 0 to 360 degrees using different spline degrees.\n\n"
      ]
    },
    {
      "cell_type": "code",
      "execution_count": null,
      "metadata": {
        "collapsed": false
      },
      "outputs": [],
      "source": [
        "def create_combined_animation(images):\n    fig, axes = plt.subplots(\n        3, 1, figsize=(6, 18), constrained_layout=True\n    )  # Adjusted figsize and layout for vertical placement\n    for ax, degree in zip(axes, [0, 1, 3]):\n        ax.axis(\"off\")\n        ax.set_title(f\"Degree {degree}\")\n\n    image_plots = [ax.imshow(images[i], cmap=\"gray\") for i, ax in enumerate(axes)]\n\n    # Animation function\n    def animate(frame):\n        nonlocal images  # Ensure we modify the images array from the enclosing scope\n        for i, degree in enumerate([0, 1, 3]):\n            if frame > 0:\n                images[i] = rotate_image_splineops(\n                    images[i], 24, degree=degree\n                )  # Rotate by 24 degrees each frame\n            image_plots[i].set_data(images[i])\n        return image_plots\n\n    # Create the animation\n    ani = animation.FuncAnimation(\n        fig, animate, frames=15, interval=250, blit=True\n    )  # 15 frames, rotating 24 degrees per frame\n    return ani\n\n\n# Create initial images list and animation\nimages = [image_resized.copy() for _ in range(3)]\nani = create_combined_animation(images)\n\n# Display the animation\nani_html = ani.to_jshtml()"
      ]
    }
  ],
  "metadata": {
    "kernelspec": {
      "display_name": "Python 3",
      "language": "python",
      "name": "python3"
    },
    "language_info": {
      "codemirror_mode": {
        "name": "ipython",
        "version": 3
      },
      "file_extension": ".py",
      "mimetype": "text/x-python",
      "name": "python",
      "nbconvert_exporter": "python",
      "pygments_lexer": "ipython3",
      "version": "3.12.5"
    }
  },
  "nbformat": 4,
  "nbformat_minor": 0
}